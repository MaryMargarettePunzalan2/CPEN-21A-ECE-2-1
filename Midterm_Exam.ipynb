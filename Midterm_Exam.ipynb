{
  "nbformat": 4,
  "nbformat_minor": 0,
  "metadata": {
    "colab": {
      "name": "Midterm Exam.ipynb",
      "provenance": [],
      "authorship_tag": "ABX9TyOExCs/RC7m5C6SK/PHRi+Z",
      "include_colab_link": true
    },
    "kernelspec": {
      "name": "python3",
      "display_name": "Python 3"
    },
    "language_info": {
      "name": "python"
    }
  },
  "cells": [
    {
      "cell_type": "markdown",
      "metadata": {
        "id": "view-in-github",
        "colab_type": "text"
      },
      "source": [
        "<a href=\"https://colab.research.google.com/github/MaryMargarettePunzalan2/CPEN-21A-ECE-2-1/blob/main/Midterm_Exam.ipynb\" target=\"_parent\"><img src=\"https://colab.research.google.com/assets/colab-badge.svg\" alt=\"Open In Colab\"/></a>"
      ]
    },
    {
      "cell_type": "markdown",
      "metadata": {
        "id": "IGlVTK8729fR"
      },
      "source": [
        "##Midterm Exam"
      ]
    },
    {
      "cell_type": "code",
      "metadata": {
        "colab": {
          "base_uri": "https://localhost:8080/"
        },
        "id": "70akmQ7V2_3v",
        "outputId": "0e2c10da-3e02-4f06-e035-960c7ad8dcab"
      },
      "source": [
        "Name = \"Mary Margarette Singco Punzalan\"\n",
        "StudentNumber = 202014388\n",
        "Age = 18\n",
        "Birthday = \"December 22, 2002\"\n",
        "Address = \"Blk. 15 Lot 23 Southville 2, Brgy. Inocencio Trece Martires City, Cavite\"\n",
        "Course = \"BS Electronics Engineering\"\n",
        "GWA = 1.17\n",
        "\n",
        "print(\"Full name:\", Name)\n",
        "print(\"Student Number:\", StudentNumber)\n",
        "print(\"Age:\", Age)\n",
        "print(\"Birthday:\", Birthday)\n",
        "print(\"Address:\", Address)\n",
        "print(\"Course:\", Course)\n",
        "print(\"Last Sem GWA:\", GWA)"
      ],
      "execution_count": null,
      "outputs": [
        {
          "output_type": "stream",
          "name": "stdout",
          "text": [
            "Full name: Mary Margarette Singco Punzalan\n",
            "Student Number: 202014388\n",
            "Age: 18\n",
            "Birthday: December 22, 2002\n",
            "Address: Blk. 15 Lot 23 Southville 2, Brgy. Inocencio Trece Martires City, Cavite\n",
            "Course: BS Electronics Engineering\n",
            "Last Sem GWA: 1.17\n"
          ]
        }
      ]
    },
    {
      "cell_type": "code",
      "metadata": {
        "colab": {
          "base_uri": "https://localhost:8080/"
        },
        "id": "QTHQULLE-DHB",
        "outputId": "dc9dc86e-1496-4875-c8c5-9196e3ac2911"
      },
      "source": [
        "n = 4\n",
        "answ = \"Y\"\n",
        "\n",
        "print(2<n and n<6)\n",
        "print(2<n or n==6)\n",
        "print(not(2<n or n==6))\n",
        "print(not(n<6))\n",
        "print(answ==\"Y\" or answ==\"y\")\n",
        "print(answ==\"Y\" and answ==\"y\")\n",
        "print(not(answ==\"y\"))\n",
        "print(2<n and n==5+1 or answ==\"No\")\n",
        "print(n==2 and n==7 or answ==\"Y\")\n",
        "print(n==2 and n==7 or answ==\"Y\")"
      ],
      "execution_count": 58,
      "outputs": [
        {
          "output_type": "stream",
          "name": "stdout",
          "text": [
            "True\n",
            "True\n",
            "False\n",
            "False\n",
            "True\n",
            "False\n",
            "True\n",
            "False\n",
            "True\n",
            "True\n"
          ]
        }
      ]
    },
    {
      "cell_type": "code",
      "metadata": {
        "colab": {
          "base_uri": "https://localhost:8080/"
        },
        "id": "W9RVkEQY8m5b",
        "outputId": "0bdbf4af-a622-447c-c9e2-631aab22dbbd"
      },
      "source": [
        "x = 2\n",
        "y = -3\n",
        "w = 7\n",
        "z = -10\n",
        "\n",
        "print(x/y)\n",
        "print(w/y/x)\n",
        "print(z/y%x)\n",
        "print(x%-y*w)\n",
        "print(x%y)\n",
        "print(z%w-y/x*5+5)\n",
        "print(9-x%(2+y))\n",
        "print(z//w)\n",
        "print((2+y)**2)\n",
        "print(w/x*2)"
      ],
      "execution_count": 59,
      "outputs": [
        {
          "output_type": "stream",
          "name": "stdout",
          "text": [
            "-0.6666666666666666\n",
            "-1.1666666666666667\n",
            "1.3333333333333335\n",
            "14\n",
            "-1\n",
            "16.5\n",
            "9\n",
            "-2\n",
            "1\n",
            "7.0\n"
          ]
        }
      ]
    }
  ]
}