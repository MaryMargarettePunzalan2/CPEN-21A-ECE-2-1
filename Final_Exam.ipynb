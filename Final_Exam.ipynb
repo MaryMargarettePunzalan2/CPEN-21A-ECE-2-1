{
  "nbformat": 4,
  "nbformat_minor": 0,
  "metadata": {
    "colab": {
      "name": "Final Exam.ipynb",
      "provenance": [],
      "authorship_tag": "ABX9TyPEzyDKTVC4ctSoe8uJx8ZH",
      "include_colab_link": true
    },
    "kernelspec": {
      "name": "python3",
      "display_name": "Python 3"
    },
    "language_info": {
      "name": "python"
    }
  },
  "cells": [
    {
      "cell_type": "markdown",
      "metadata": {
        "id": "view-in-github",
        "colab_type": "text"
      },
      "source": [
        "<a href=\"https://colab.research.google.com/github/MaryMargarettePunzalan2/CPEN-21A-ECE-2-1/blob/main/Final_Exam.ipynb\" target=\"_parent\"><img src=\"https://colab.research.google.com/assets/colab-badge.svg\" alt=\"Open In Colab\"/></a>"
      ]
    },
    {
      "cell_type": "markdown",
      "source": [
        "#Final Exam"
      ],
      "metadata": {
        "id": "C6BFFWow6szy"
      }
    },
    {
      "cell_type": "markdown",
      "source": [
        "###Problem Statement 1"
      ],
      "metadata": {
        "id": "HAfJ4e656ycf"
      }
    },
    {
      "cell_type": "code",
      "source": [
        "n = [4, 3, 2, 1, 0, -1, -2, -3, -4, -5]\n",
        "sum = 0\n",
        "for x in n:\n",
        "  sum = sum + x\n",
        "print(sum)"
      ],
      "metadata": {
        "id": "D4ac3yGj7Cih",
        "colab": {
          "base_uri": "https://localhost:8080/"
        },
        "outputId": "d1e9da5e-b585-440d-d6f9-5b484573fffb"
      },
      "execution_count": null,
      "outputs": [
        {
          "output_type": "stream",
          "name": "stdout",
          "text": [
            "-5\n"
          ]
        }
      ]
    },
    {
      "cell_type": "markdown",
      "source": [
        "###Problem Statement 2"
      ],
      "metadata": {
        "id": "b5eFmiHq654f"
      }
    },
    {
      "cell_type": "code",
      "source": [
        "n = 1\n",
        "num = {}\n",
        "while n <= 5:\n",
        "  x = str(n)\n",
        "  num[n]=input(\"Enter a number: \")\n",
        "  print(\"Number\", x, \"=\", num[n])\n",
        "  n += 1\n",
        "  if (n == 6):\n",
        "    sum = int(num[1]) + int(num[5])\n",
        "    print(\"Sum of the first and last number = \", str(sum))"
      ],
      "metadata": {
        "id": "9finq5M57pe8",
        "colab": {
          "base_uri": "https://localhost:8080/"
        },
        "outputId": "ee80dfb1-6da5-4613-babf-e5fca8d8e1f9"
      },
      "execution_count": null,
      "outputs": [
        {
          "output_type": "stream",
          "name": "stdout",
          "text": [
            "Enter a number: 6\n",
            "Number 1 = 6\n",
            "Enter a number: 1\n",
            "Number 2 = 1\n",
            "Enter a number: 8\n",
            "Number 3 = 8\n",
            "Enter a number: 5\n",
            "Number 4 = 5\n",
            "Enter a number: 9\n",
            "Number 5 = 9\n",
            "Sum of the first and last number =  15\n"
          ]
        }
      ]
    },
    {
      "cell_type": "markdown",
      "source": [
        "###Problem Statement 3"
      ],
      "metadata": {
        "id": "yjNx6ZuA66eW"
      }
    },
    {
      "cell_type": "code",
      "source": [
        "grade = float(input(\"Enter numerical grade:\"))\n",
        "if grade >= 90:\n",
        "  print(\"A\")\n",
        "elif grade >= 80:\n",
        "  print(\"B\")\n",
        "elif grade >= 70:\n",
        "  print(\"C\")\n",
        "elif grade >= 60:\n",
        "  print(\"D\")\n",
        "else:\n",
        "  print(\"F\")"
      ],
      "metadata": {
        "id": "sVOc2m_89fsn",
        "colab": {
          "base_uri": "https://localhost:8080/"
        },
        "outputId": "6630e91f-f26f-4303-e9d1-0f6fc6cdc61a"
      },
      "execution_count": null,
      "outputs": [
        {
          "output_type": "stream",
          "name": "stdout",
          "text": [
            "Enter numerical grade:87.5\n",
            "B\n"
          ]
        }
      ]
    }
  ]
}