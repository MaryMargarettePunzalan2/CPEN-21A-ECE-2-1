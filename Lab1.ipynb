{
  "nbformat": 4,
  "nbformat_minor": 0,
  "metadata": {
    "colab": {
      "name": "Lab1.ipynb",
      "provenance": [],
      "authorship_tag": "ABX9TyM5zT4nIWWNo5S1J4Ra06Ag",
      "include_colab_link": true
    },
    "kernelspec": {
      "name": "python3",
      "display_name": "Python 3"
    },
    "language_info": {
      "name": "python"
    }
  },
  "cells": [
    {
      "cell_type": "markdown",
      "metadata": {
        "id": "view-in-github",
        "colab_type": "text"
      },
      "source": [
        "<a href=\"https://colab.research.google.com/github/MaryMargarettePunzalan2/CPEN-21A-ECE-2-1/blob/main/Lab1.ipynb\" target=\"_parent\"><img src=\"https://colab.research.google.com/assets/colab-badge.svg\" alt=\"Open In Colab\"/></a>"
      ]
    },
    {
      "cell_type": "markdown",
      "metadata": {
        "id": "Gav7NPDvtbiQ"
      },
      "source": [
        "#Laboratory 1"
      ]
    },
    {
      "cell_type": "code",
      "metadata": {
        "colab": {
          "base_uri": "https://localhost:8080/"
        },
        "id": "i4V1eaZ7teEa",
        "outputId": "bb2b0f36-0194-4b4b-8ef2-7a21685f845e"
      },
      "source": [
        "print(\"Welcome to Python Programming\")"
      ],
      "execution_count": 1,
      "outputs": [
        {
          "output_type": "stream",
          "name": "stdout",
          "text": [
            "Welcome to Python Programming\n"
          ]
        }
      ]
    },
    {
      "cell_type": "code",
      "metadata": {
        "colab": {
          "base_uri": "https://localhost:8080/"
        },
        "id": "dw232CkJtvqY",
        "outputId": "94d7f5d6-11d4-482d-f0e5-05ec75490d6e"
      },
      "source": [
        "name = \"Mary Margarette S. Punzalan\"\n",
        "address = \"Blk. 15 Lot 23 Southville 2 Ph.1-Expansion, Brgy. Inocencio Trece Martires City, Cavite\"\n",
        "age = \"18 years old\"\n",
        "print(name)\n",
        "print(address)\n",
        "print(age)"
      ],
      "execution_count": 2,
      "outputs": [
        {
          "output_type": "stream",
          "name": "stdout",
          "text": [
            "Mary Margarette S. Punzalan\n",
            "Blk. 15 Lot 23 Southville 2 Ph.1-Expansion, Brgy. Inocencio Trece Martires City, Cavite\n",
            "18 years old\n"
          ]
        }
      ]
    }
  ]
}